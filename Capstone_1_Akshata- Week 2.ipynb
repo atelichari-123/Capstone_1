{
 "cells": [
  {
   "cell_type": "code",
   "execution_count": 1,
   "id": "c4b60a06",
   "metadata": {},
   "outputs": [
    {
     "name": "stdout",
     "output_type": "stream",
     "text": [
      "Note: you may need to restart the kernel to use updated packages.\n"
     ]
    },
    {
     "name": "stderr",
     "output_type": "stream",
     "text": [
      "ERROR: Invalid requirement: '#'\n"
     ]
    }
   ],
   "source": [
    "pip install mysql-connector-python            # to establish connection to MySQL database"
   ]
  },
  {
   "cell_type": "code",
   "execution_count": 103,
   "id": "932fd7ff",
   "metadata": {},
   "outputs": [
    {
     "name": "stdout",
     "output_type": "stream",
     "text": [
      "Requirement already satisfied: googletrans in c:\\users\\aksha\\anaconda3\\lib\\site-packages (4.0.0rc1)Note: you may need to restart the kernel to use updated packages.\n",
      "Requirement already satisfied: httpx==0.13.3 in c:\\users\\aksha\\anaconda3\\lib\\site-packages (from googletrans) (0.13.3)\n",
      "\n",
      "Requirement already satisfied: chardet==3.* in c:\\users\\aksha\\anaconda3\\lib\\site-packages (from httpx==0.13.3->googletrans) (3.0.4)\n",
      "Requirement already satisfied: rfc3986<2,>=1.3 in c:\\users\\aksha\\anaconda3\\lib\\site-packages (from httpx==0.13.3->googletrans) (1.5.0)\n",
      "Requirement already satisfied: httpcore==0.9.* in c:\\users\\aksha\\anaconda3\\lib\\site-packages (from httpx==0.13.3->googletrans) (0.9.1)\n",
      "Requirement already satisfied: hstspreload in c:\\users\\aksha\\anaconda3\\lib\\site-packages (from httpx==0.13.3->googletrans) (2021.12.1)\n",
      "Requirement already satisfied: idna==2.* in c:\\users\\aksha\\anaconda3\\lib\\site-packages (from httpx==0.13.3->googletrans) (2.10)\n",
      "Requirement already satisfied: sniffio in c:\\users\\aksha\\anaconda3\\lib\\site-packages (from httpx==0.13.3->googletrans) (1.2.0)\n",
      "Requirement already satisfied: certifi in c:\\users\\aksha\\anaconda3\\lib\\site-packages (from httpx==0.13.3->googletrans) (2020.12.5)\n",
      "Requirement already satisfied: h11<0.10,>=0.8 in c:\\users\\aksha\\anaconda3\\lib\\site-packages (from httpcore==0.9.*->httpx==0.13.3->googletrans) (0.9.0)\n",
      "Requirement already satisfied: h2==3.* in c:\\users\\aksha\\anaconda3\\lib\\site-packages (from httpcore==0.9.*->httpx==0.13.3->googletrans) (3.2.0)\n",
      "Requirement already satisfied: hyperframe<6,>=5.2.0 in c:\\users\\aksha\\anaconda3\\lib\\site-packages (from h2==3.*->httpcore==0.9.*->httpx==0.13.3->googletrans) (5.2.0)\n",
      "Requirement already satisfied: hpack<4,>=3.0 in c:\\users\\aksha\\anaconda3\\lib\\site-packages (from h2==3.*->httpcore==0.9.*->httpx==0.13.3->googletrans) (3.0.0)\n"
     ]
    }
   ],
   "source": [
    "pip install googletrans"
   ]
  },
  {
   "cell_type": "code",
   "execution_count": 3,
   "id": "3a4f275c",
   "metadata": {},
   "outputs": [
    {
     "name": "stdout",
     "output_type": "stream",
     "text": [
      "Requirement already satisfied: folium in c:\\users\\aksha\\anaconda3\\lib\\site-packages (0.12.1.post1)\n",
      "Requirement already satisfied: branca>=0.3.0 in c:\\users\\aksha\\anaconda3\\lib\\site-packages (from folium) (0.4.2)\n",
      "Requirement already satisfied: jinja2>=2.9 in c:\\users\\aksha\\anaconda3\\lib\\site-packages (from folium) (2.11.3)\n",
      "Requirement already satisfied: numpy in c:\\users\\aksha\\anaconda3\\lib\\site-packages (from folium) (1.19.5)\n",
      "Requirement already satisfied: requests in c:\\users\\aksha\\anaconda3\\lib\\site-packages (from folium) (2.25.1)\n",
      "Requirement already satisfied: MarkupSafe>=0.23 in c:\\users\\aksha\\anaconda3\\lib\\site-packages (from jinja2>=2.9->folium) (2.0.1)\n",
      "Requirement already satisfied: urllib3<1.27,>=1.21.1 in c:\\users\\aksha\\anaconda3\\lib\\site-packages (from requests->folium) (1.26.4)\n",
      "Requirement already satisfied: certifi>=2017.4.17 in c:\\users\\aksha\\anaconda3\\lib\\site-packages (from requests->folium) (2020.12.5)\n",
      "Requirement already satisfied: idna<3,>=2.5 in c:\\users\\aksha\\anaconda3\\lib\\site-packages (from requests->folium) (2.10)\n",
      "Requirement already satisfied: chardet<5,>=3.0.2 in c:\\users\\aksha\\anaconda3\\lib\\site-packages (from requests->folium) (4.0.0)\n",
      "Note: you may need to restart the kernel to use updated packages.\n"
     ]
    }
   ],
   "source": [
    "pip install folium"
   ]
  },
  {
   "cell_type": "code",
   "execution_count": null,
   "id": "34c707df",
   "metadata": {},
   "outputs": [],
   "source": []
  },
  {
   "cell_type": "code",
   "execution_count": 68,
   "id": "ccf49977",
   "metadata": {},
   "outputs": [],
   "source": [
    "import numpy as np\n",
    "import pandas as pd\n",
    "import mysql.connector\n",
    "from googletrans import Translator"
   ]
  },
  {
   "cell_type": "markdown",
   "id": "16457b79",
   "metadata": {},
   "source": [
    "# 1. Data extraction & Exploration"
   ]
  },
  {
   "cell_type": "markdown",
   "id": "f111d3ed",
   "metadata": {},
   "source": [
    "### 1.1 Events Data"
   ]
  },
  {
   "cell_type": "code",
   "execution_count": 5,
   "id": "aa33337c",
   "metadata": {},
   "outputs": [
    {
     "data": {
      "text/html": [
       "<div>\n",
       "<style scoped>\n",
       "    .dataframe tbody tr th:only-of-type {\n",
       "        vertical-align: middle;\n",
       "    }\n",
       "\n",
       "    .dataframe tbody tr th {\n",
       "        vertical-align: top;\n",
       "    }\n",
       "\n",
       "    .dataframe thead th {\n",
       "        text-align: right;\n",
       "    }\n",
       "</style>\n",
       "<table border=\"1\" class=\"dataframe\">\n",
       "  <thead>\n",
       "    <tr style=\"text-align: right;\">\n",
       "      <th></th>\n",
       "      <th>event_id</th>\n",
       "      <th>device_id</th>\n",
       "      <th>timestamp</th>\n",
       "      <th>longitude</th>\n",
       "      <th>latitude</th>\n",
       "      <th>city</th>\n",
       "      <th>state</th>\n",
       "    </tr>\n",
       "  </thead>\n",
       "  <tbody>\n",
       "    <tr>\n",
       "      <th>0</th>\n",
       "      <td>2765368</td>\n",
       "      <td>2.973348e+18</td>\n",
       "      <td>2016-05-07 22:52:05</td>\n",
       "      <td>77.225676</td>\n",
       "      <td>28.730140</td>\n",
       "      <td>Delhi</td>\n",
       "      <td>Delhi</td>\n",
       "    </tr>\n",
       "    <tr>\n",
       "      <th>1</th>\n",
       "      <td>2955066</td>\n",
       "      <td>4.734221e+18</td>\n",
       "      <td>2016-05-01 20:44:16</td>\n",
       "      <td>88.388361</td>\n",
       "      <td>22.660325</td>\n",
       "      <td>Calcutta</td>\n",
       "      <td>WestBengal</td>\n",
       "    </tr>\n",
       "    <tr>\n",
       "      <th>2</th>\n",
       "      <td>605968</td>\n",
       "      <td>-3.264500e+18</td>\n",
       "      <td>2016-05-02 14:23:04</td>\n",
       "      <td>77.256809</td>\n",
       "      <td>28.757906</td>\n",
       "      <td>Delhi</td>\n",
       "      <td>Delhi</td>\n",
       "    </tr>\n",
       "    <tr>\n",
       "      <th>3</th>\n",
       "      <td>448114</td>\n",
       "      <td>5.731369e+18</td>\n",
       "      <td>2016-05-03 13:21:16</td>\n",
       "      <td>80.343613</td>\n",
       "      <td>13.153332</td>\n",
       "      <td>Chennai</td>\n",
       "      <td>TamilNadu</td>\n",
       "    </tr>\n",
       "    <tr>\n",
       "      <th>4</th>\n",
       "      <td>665740</td>\n",
       "      <td>3.388880e+17</td>\n",
       "      <td>2016-05-06 03:51:05</td>\n",
       "      <td>85.997745</td>\n",
       "      <td>23.842609</td>\n",
       "      <td>Bokaro</td>\n",
       "      <td>Jharkhand</td>\n",
       "    </tr>\n",
       "  </tbody>\n",
       "</table>\n",
       "</div>"
      ],
      "text/plain": [
       "   event_id     device_id            timestamp  longitude   latitude  \\\n",
       "0   2765368  2.973348e+18  2016-05-07 22:52:05  77.225676  28.730140   \n",
       "1   2955066  4.734221e+18  2016-05-01 20:44:16  88.388361  22.660325   \n",
       "2    605968 -3.264500e+18  2016-05-02 14:23:04  77.256809  28.757906   \n",
       "3    448114  5.731369e+18  2016-05-03 13:21:16  80.343613  13.153332   \n",
       "4    665740  3.388880e+17  2016-05-06 03:51:05  85.997745  23.842609   \n",
       "\n",
       "       city       state  \n",
       "0     Delhi       Delhi  \n",
       "1  Calcutta  WestBengal  \n",
       "2     Delhi       Delhi  \n",
       "3   Chennai   TamilNadu  \n",
       "4    Bokaro   Jharkhand  "
      ]
     },
     "execution_count": 5,
     "metadata": {},
     "output_type": "execute_result"
    }
   ],
   "source": [
    "df_events = pd.read_csv(r\"C:\\Users\\aksha\\Downloads\\events_data.csv\")\n",
    "df_events.head()"
   ]
  },
  {
   "cell_type": "code",
   "execution_count": 6,
   "id": "df1c08a9",
   "metadata": {},
   "outputs": [
    {
     "data": {
      "text/plain": [
       "(3252950, 7)"
      ]
     },
     "execution_count": 6,
     "metadata": {},
     "output_type": "execute_result"
    }
   ],
   "source": [
    "df_events.shape"
   ]
  },
  {
   "cell_type": "code",
   "execution_count": 7,
   "id": "751a6d75",
   "metadata": {},
   "outputs": [
    {
     "name": "stdout",
     "output_type": "stream",
     "text": [
      "<class 'pandas.core.frame.DataFrame'>\n",
      "RangeIndex: 3252950 entries, 0 to 3252949\n",
      "Data columns (total 7 columns):\n",
      " #   Column     Non-Null Count    Dtype  \n",
      "---  ------     --------------    -----  \n",
      " 0   event_id   3252950 non-null  int64  \n",
      " 1   device_id  3252497 non-null  float64\n",
      " 2   timestamp  3252950 non-null  object \n",
      " 3   longitude  3252527 non-null  float64\n",
      " 4   latitude   3252527 non-null  float64\n",
      " 5   city       3252950 non-null  object \n",
      " 6   state      3252573 non-null  object \n",
      "dtypes: float64(3), int64(1), object(3)\n",
      "memory usage: 173.7+ MB\n"
     ]
    }
   ],
   "source": [
    "df_events.info(show_counts = True)"
   ]
  },
  {
   "cell_type": "code",
   "execution_count": 8,
   "id": "ca50aed9",
   "metadata": {},
   "outputs": [
    {
     "data": {
      "text/html": [
       "<div>\n",
       "<style scoped>\n",
       "    .dataframe tbody tr th:only-of-type {\n",
       "        vertical-align: middle;\n",
       "    }\n",
       "\n",
       "    .dataframe tbody tr th {\n",
       "        vertical-align: top;\n",
       "    }\n",
       "\n",
       "    .dataframe thead th {\n",
       "        text-align: right;\n",
       "    }\n",
       "</style>\n",
       "<table border=\"1\" class=\"dataframe\">\n",
       "  <thead>\n",
       "    <tr style=\"text-align: right;\">\n",
       "      <th></th>\n",
       "      <th>event_id</th>\n",
       "      <th>device_id</th>\n",
       "      <th>longitude</th>\n",
       "      <th>latitude</th>\n",
       "    </tr>\n",
       "  </thead>\n",
       "  <tbody>\n",
       "    <tr>\n",
       "      <th>count</th>\n",
       "      <td>3.252950e+06</td>\n",
       "      <td>3.252497e+06</td>\n",
       "      <td>3.252527e+06</td>\n",
       "      <td>3.252527e+06</td>\n",
       "    </tr>\n",
       "    <tr>\n",
       "      <th>mean</th>\n",
       "      <td>1.626476e+06</td>\n",
       "      <td>1.012200e+17</td>\n",
       "      <td>7.815868e+01</td>\n",
       "      <td>2.168851e+01</td>\n",
       "    </tr>\n",
       "    <tr>\n",
       "      <th>std</th>\n",
       "      <td>9.390459e+05</td>\n",
       "      <td>5.316758e+18</td>\n",
       "      <td>4.235570e+00</td>\n",
       "      <td>5.789111e+00</td>\n",
       "    </tr>\n",
       "    <tr>\n",
       "      <th>min</th>\n",
       "      <td>1.000000e+00</td>\n",
       "      <td>-9.222957e+18</td>\n",
       "      <td>1.256700e+01</td>\n",
       "      <td>8.190110e+00</td>\n",
       "    </tr>\n",
       "    <tr>\n",
       "      <th>25%</th>\n",
       "      <td>8.132382e+05</td>\n",
       "      <td>-4.540611e+18</td>\n",
       "      <td>7.583543e+01</td>\n",
       "      <td>1.780171e+01</td>\n",
       "    </tr>\n",
       "    <tr>\n",
       "      <th>50%</th>\n",
       "      <td>1.626476e+06</td>\n",
       "      <td>1.726820e+17</td>\n",
       "      <td>7.726814e+01</td>\n",
       "      <td>2.216454e+01</td>\n",
       "    </tr>\n",
       "    <tr>\n",
       "      <th>75%</th>\n",
       "      <td>2.439713e+06</td>\n",
       "      <td>4.861813e+18</td>\n",
       "      <td>8.031916e+01</td>\n",
       "      <td>2.868278e+01</td>\n",
       "    </tr>\n",
       "    <tr>\n",
       "      <th>max</th>\n",
       "      <td>3.252950e+06</td>\n",
       "      <td>9.222849e+18</td>\n",
       "      <td>9.545946e+01</td>\n",
       "      <td>4.187190e+01</td>\n",
       "    </tr>\n",
       "  </tbody>\n",
       "</table>\n",
       "</div>"
      ],
      "text/plain": [
       "           event_id     device_id     longitude      latitude\n",
       "count  3.252950e+06  3.252497e+06  3.252527e+06  3.252527e+06\n",
       "mean   1.626476e+06  1.012200e+17  7.815868e+01  2.168851e+01\n",
       "std    9.390459e+05  5.316758e+18  4.235570e+00  5.789111e+00\n",
       "min    1.000000e+00 -9.222957e+18  1.256700e+01  8.190110e+00\n",
       "25%    8.132382e+05 -4.540611e+18  7.583543e+01  1.780171e+01\n",
       "50%    1.626476e+06  1.726820e+17  7.726814e+01  2.216454e+01\n",
       "75%    2.439713e+06  4.861813e+18  8.031916e+01  2.868278e+01\n",
       "max    3.252950e+06  9.222849e+18  9.545946e+01  4.187190e+01"
      ]
     },
     "execution_count": 8,
     "metadata": {},
     "output_type": "execute_result"
    }
   ],
   "source": [
    "df_events.describe()"
   ]
  },
  {
   "cell_type": "markdown",
   "id": "5499e5f4",
   "metadata": {},
   "source": [
    "__Observations__\n",
    "- Events data has 3252950 rows and 7 colums\n",
    "- Dtype for event_id and device_id to be changed to float and timestamp to be changed to datetime\n",
    "- 435 missing values in Device_id and Latitude, longitude have 423 mising values whereas state has 337 missing value\n",
    "- Need to fill missing states, lats and long\n"
   ]
  },
  {
   "cell_type": "markdown",
   "id": "b025ea4e",
   "metadata": {},
   "source": [
    "### 1.2 Datasets from MySQL"
   ]
  },
  {
   "cell_type": "code",
   "execution_count": 9,
   "id": "c75ce6bc",
   "metadata": {},
   "outputs": [],
   "source": [
    "connection = mysql.connector.connect(host=\"cpanel.insaid.co\", database = 'Capstone1',user=\"student\", passwd=\"student\")\n",
    "df_gender_age = pd.read_sql('''Select * from gender_age_train;''',connection)\n",
    "df_brand_model = pd.read_sql('''Select * from phone_brand_device_model;''',connection)\n",
    "connection.close()"
   ]
  },
  {
   "cell_type": "code",
   "execution_count": 10,
   "id": "7ce82ee8",
   "metadata": {},
   "outputs": [
    {
     "data": {
      "text/html": [
       "<div>\n",
       "<style scoped>\n",
       "    .dataframe tbody tr th:only-of-type {\n",
       "        vertical-align: middle;\n",
       "    }\n",
       "\n",
       "    .dataframe tbody tr th {\n",
       "        vertical-align: top;\n",
       "    }\n",
       "\n",
       "    .dataframe thead th {\n",
       "        text-align: right;\n",
       "    }\n",
       "</style>\n",
       "<table border=\"1\" class=\"dataframe\">\n",
       "  <thead>\n",
       "    <tr style=\"text-align: right;\">\n",
       "      <th></th>\n",
       "      <th>device_id</th>\n",
       "      <th>gender</th>\n",
       "      <th>age</th>\n",
       "      <th>group</th>\n",
       "    </tr>\n",
       "  </thead>\n",
       "  <tbody>\n",
       "    <tr>\n",
       "      <th>0</th>\n",
       "      <td>-8076087639492063270</td>\n",
       "      <td>M</td>\n",
       "      <td>35</td>\n",
       "      <td>M32-38</td>\n",
       "    </tr>\n",
       "    <tr>\n",
       "      <th>1</th>\n",
       "      <td>-2897161552818060146</td>\n",
       "      <td>M</td>\n",
       "      <td>35</td>\n",
       "      <td>M32-38</td>\n",
       "    </tr>\n",
       "    <tr>\n",
       "      <th>2</th>\n",
       "      <td>-8260683887967679142</td>\n",
       "      <td>M</td>\n",
       "      <td>35</td>\n",
       "      <td>M32-38</td>\n",
       "    </tr>\n",
       "    <tr>\n",
       "      <th>3</th>\n",
       "      <td>-4938849341048082022</td>\n",
       "      <td>M</td>\n",
       "      <td>30</td>\n",
       "      <td>M29-31</td>\n",
       "    </tr>\n",
       "    <tr>\n",
       "      <th>4</th>\n",
       "      <td>245133531816851882</td>\n",
       "      <td>M</td>\n",
       "      <td>30</td>\n",
       "      <td>M29-31</td>\n",
       "    </tr>\n",
       "  </tbody>\n",
       "</table>\n",
       "</div>"
      ],
      "text/plain": [
       "             device_id gender  age   group\n",
       "0 -8076087639492063270      M   35  M32-38\n",
       "1 -2897161552818060146      M   35  M32-38\n",
       "2 -8260683887967679142      M   35  M32-38\n",
       "3 -4938849341048082022      M   30  M29-31\n",
       "4   245133531816851882      M   30  M29-31"
      ]
     },
     "execution_count": 10,
     "metadata": {},
     "output_type": "execute_result"
    }
   ],
   "source": [
    "df_gender_age.head()"
   ]
  },
  {
   "cell_type": "code",
   "execution_count": 11,
   "id": "1131ed25",
   "metadata": {},
   "outputs": [
    {
     "data": {
      "text/plain": [
       "(74645, 4)"
      ]
     },
     "execution_count": 11,
     "metadata": {},
     "output_type": "execute_result"
    }
   ],
   "source": [
    "df_gender_age.shape"
   ]
  },
  {
   "cell_type": "code",
   "execution_count": 12,
   "id": "ebab7b2d",
   "metadata": {},
   "outputs": [
    {
     "name": "stdout",
     "output_type": "stream",
     "text": [
      "<class 'pandas.core.frame.DataFrame'>\n",
      "RangeIndex: 74645 entries, 0 to 74644\n",
      "Data columns (total 4 columns):\n",
      " #   Column     Non-Null Count  Dtype \n",
      "---  ------     --------------  ----- \n",
      " 0   device_id  74645 non-null  int64 \n",
      " 1   gender     74645 non-null  object\n",
      " 2   age        74645 non-null  int64 \n",
      " 3   group      74645 non-null  object\n",
      "dtypes: int64(2), object(2)\n",
      "memory usage: 2.3+ MB\n"
     ]
    }
   ],
   "source": [
    "df_gender_age.info()"
   ]
  },
  {
   "cell_type": "code",
   "execution_count": 13,
   "id": "8a1602a4",
   "metadata": {},
   "outputs": [
    {
     "data": {
      "text/html": [
       "<div>\n",
       "<style scoped>\n",
       "    .dataframe tbody tr th:only-of-type {\n",
       "        vertical-align: middle;\n",
       "    }\n",
       "\n",
       "    .dataframe tbody tr th {\n",
       "        vertical-align: top;\n",
       "    }\n",
       "\n",
       "    .dataframe thead th {\n",
       "        text-align: right;\n",
       "    }\n",
       "</style>\n",
       "<table border=\"1\" class=\"dataframe\">\n",
       "  <thead>\n",
       "    <tr style=\"text-align: right;\">\n",
       "      <th></th>\n",
       "      <th>device_id</th>\n",
       "      <th>age</th>\n",
       "    </tr>\n",
       "  </thead>\n",
       "  <tbody>\n",
       "    <tr>\n",
       "      <th>count</th>\n",
       "      <td>7.464500e+04</td>\n",
       "      <td>74645.000000</td>\n",
       "    </tr>\n",
       "    <tr>\n",
       "      <th>mean</th>\n",
       "      <td>-7.491354e+14</td>\n",
       "      <td>31.410342</td>\n",
       "    </tr>\n",
       "    <tr>\n",
       "      <th>std</th>\n",
       "      <td>5.327150e+18</td>\n",
       "      <td>9.868735</td>\n",
       "    </tr>\n",
       "    <tr>\n",
       "      <th>min</th>\n",
       "      <td>-9.223067e+18</td>\n",
       "      <td>1.000000</td>\n",
       "    </tr>\n",
       "    <tr>\n",
       "      <th>25%</th>\n",
       "      <td>-4.617367e+18</td>\n",
       "      <td>25.000000</td>\n",
       "    </tr>\n",
       "    <tr>\n",
       "      <th>50%</th>\n",
       "      <td>-1.841362e+16</td>\n",
       "      <td>29.000000</td>\n",
       "    </tr>\n",
       "    <tr>\n",
       "      <th>75%</th>\n",
       "      <td>4.636656e+18</td>\n",
       "      <td>36.000000</td>\n",
       "    </tr>\n",
       "    <tr>\n",
       "      <th>max</th>\n",
       "      <td>9.222849e+18</td>\n",
       "      <td>96.000000</td>\n",
       "    </tr>\n",
       "  </tbody>\n",
       "</table>\n",
       "</div>"
      ],
      "text/plain": [
       "          device_id           age\n",
       "count  7.464500e+04  74645.000000\n",
       "mean  -7.491354e+14     31.410342\n",
       "std    5.327150e+18      9.868735\n",
       "min   -9.223067e+18      1.000000\n",
       "25%   -4.617367e+18     25.000000\n",
       "50%   -1.841362e+16     29.000000\n",
       "75%    4.636656e+18     36.000000\n",
       "max    9.222849e+18     96.000000"
      ]
     },
     "execution_count": 13,
     "metadata": {},
     "output_type": "execute_result"
    }
   ],
   "source": [
    "df_gender_age.describe()"
   ]
  },
  {
   "cell_type": "markdown",
   "id": "b7b365a1",
   "metadata": {},
   "source": [
    "__Observation__\n",
    "- There are no null values in this data set\n",
    "- Dtype for 'device_id' is to be changed to float"
   ]
  },
  {
   "cell_type": "code",
   "execution_count": 86,
   "id": "103ba0d6",
   "metadata": {},
   "outputs": [
    {
     "data": {
      "text/html": [
       "<div>\n",
       "<style scoped>\n",
       "    .dataframe tbody tr th:only-of-type {\n",
       "        vertical-align: middle;\n",
       "    }\n",
       "\n",
       "    .dataframe tbody tr th {\n",
       "        vertical-align: top;\n",
       "    }\n",
       "\n",
       "    .dataframe thead th {\n",
       "        text-align: right;\n",
       "    }\n",
       "</style>\n",
       "<table border=\"1\" class=\"dataframe\">\n",
       "  <thead>\n",
       "    <tr style=\"text-align: right;\">\n",
       "      <th></th>\n",
       "      <th>device_id</th>\n",
       "      <th>phone_brand</th>\n",
       "      <th>device_model</th>\n",
       "    </tr>\n",
       "  </thead>\n",
       "  <tbody>\n",
       "    <tr>\n",
       "      <th>0</th>\n",
       "      <td>1877775838486905855</td>\n",
       "      <td>vivo</td>\n",
       "      <td>Y13</td>\n",
       "    </tr>\n",
       "    <tr>\n",
       "      <th>1</th>\n",
       "      <td>-3766087376657242966</td>\n",
       "      <td>Xiaomi</td>\n",
       "      <td>V183</td>\n",
       "    </tr>\n",
       "    <tr>\n",
       "      <th>2</th>\n",
       "      <td>-6238937574958215831</td>\n",
       "      <td>OPPO</td>\n",
       "      <td>R7s</td>\n",
       "    </tr>\n",
       "    <tr>\n",
       "      <th>3</th>\n",
       "      <td>8973197758510677470</td>\n",
       "      <td>Samsung</td>\n",
       "      <td>A368t</td>\n",
       "    </tr>\n",
       "    <tr>\n",
       "      <th>4</th>\n",
       "      <td>-2015528097870762664</td>\n",
       "      <td>Xiaomi</td>\n",
       "      <td>红米Note2</td>\n",
       "    </tr>\n",
       "  </tbody>\n",
       "</table>\n",
       "</div>"
      ],
      "text/plain": [
       "             device_id phone_brand device_model\n",
       "0  1877775838486905855        vivo          Y13\n",
       "1 -3766087376657242966      Xiaomi         V183\n",
       "2 -6238937574958215831        OPPO          R7s\n",
       "3  8973197758510677470     Samsung        A368t\n",
       "4 -2015528097870762664      Xiaomi      红米Note2"
      ]
     },
     "execution_count": 86,
     "metadata": {},
     "output_type": "execute_result"
    }
   ],
   "source": [
    "df_brand_model.head()"
   ]
  },
  {
   "cell_type": "code",
   "execution_count": 85,
   "id": "ed8003d3",
   "metadata": {},
   "outputs": [
    {
     "data": {
      "text/plain": [
       "(87726, 3)"
      ]
     },
     "execution_count": 85,
     "metadata": {},
     "output_type": "execute_result"
    }
   ],
   "source": [
    "df_brand_model.shape"
   ]
  },
  {
   "cell_type": "code",
   "execution_count": 16,
   "id": "5fd341cf",
   "metadata": {},
   "outputs": [
    {
     "name": "stdout",
     "output_type": "stream",
     "text": [
      "<class 'pandas.core.frame.DataFrame'>\n",
      "RangeIndex: 87726 entries, 0 to 87725\n",
      "Data columns (total 3 columns):\n",
      " #   Column        Non-Null Count  Dtype \n",
      "---  ------        --------------  ----- \n",
      " 0   device_id     87726 non-null  int64 \n",
      " 1   phone_brand   87726 non-null  object\n",
      " 2   device_model  87726 non-null  object\n",
      "dtypes: int64(1), object(2)\n",
      "memory usage: 2.0+ MB\n"
     ]
    }
   ],
   "source": [
    "df_brand_model.info()"
   ]
  },
  {
   "cell_type": "markdown",
   "id": "f48c6c65",
   "metadata": {},
   "source": [
    "__Observation__\n",
    "- There are no null values in this data set\n",
    "- Dtype for 'device_id' is to be changed to float\n",
    "- Certain phone brand names are in Chinese. These need to be translated to English"
   ]
  },
  {
   "cell_type": "markdown",
   "id": "f18ccf16",
   "metadata": {},
   "source": [
    "# 2 Data Cleaning"
   ]
  },
  {
   "cell_type": "markdown",
   "id": "2f3c696e",
   "metadata": {},
   "source": [
    "### 2.1 Missing states"
   ]
  },
  {
   "cell_type": "code",
   "execution_count": 17,
   "id": "b5782d2a",
   "metadata": {},
   "outputs": [
    {
     "data": {
      "text/plain": [
       "array(['Pune', 'Visakhapatnam', 'Indore', 'Chennai', 'Delhi',\n",
       "       'Channapatna', 'Jaipur', 'Gangarampur', 'Arambagh'], dtype=object)"
      ]
     },
     "execution_count": 17,
     "metadata": {},
     "output_type": "execute_result"
    }
   ],
   "source": [
    "df_events[df_events['state'].isnull()]['city'].unique()"
   ]
  },
  {
   "cell_type": "code",
   "execution_count": 18,
   "id": "33353702",
   "metadata": {},
   "outputs": [],
   "source": [
    "#Replacing null states for `WestBengal` & Karnatak\n",
    "df_events.loc[(df_events['city'] =='Arambagh') \\\n",
    "    & (df_events['state'].isnull()),'state'] = 'WestBengal'\n",
    "\n",
    "df_events.loc[(df_events['city'] =='Gangarampur') \\\n",
    "    & (df_events['state'].isnull()),'state'] = 'WestBengal'\n",
    "\n",
    "#Replacing null states only for `Karnataka`\n",
    "df_events.loc[(df_events['city'] =='Channapatna') \\\n",
    "    & (df_events['state'].isnull()),'state'] ='Karnataka'"
   ]
  },
  {
   "cell_type": "code",
   "execution_count": 19,
   "id": "1c7a4322",
   "metadata": {},
   "outputs": [],
   "source": [
    "list_of_states = ['WestBengal', 'Karnataka', 'Gujarat', 'Bihar', 'Punjab', 'Kerala']"
   ]
  },
  {
   "cell_type": "code",
   "execution_count": 20,
   "id": "8a14badb",
   "metadata": {},
   "outputs": [],
   "source": [
    "df_events_data = df_events.loc[df_events['state'].isin(list_of_states)]"
   ]
  },
  {
   "cell_type": "code",
   "execution_count": 21,
   "id": "66b5a1c3",
   "metadata": {},
   "outputs": [
    {
     "data": {
      "text/plain": [
       "(422971, 7)"
      ]
     },
     "execution_count": 21,
     "metadata": {},
     "output_type": "execute_result"
    }
   ],
   "source": [
    "df_events_data.shape"
   ]
  },
  {
   "cell_type": "markdown",
   "id": "bbb07e99",
   "metadata": {},
   "source": [
    "### 2.2 Missing Latitude & Longitude"
   ]
  },
  {
   "cell_type": "code",
   "execution_count": 22,
   "id": "b4808b44",
   "metadata": {},
   "outputs": [
    {
     "data": {
      "text/plain": [
       "array(['Araria', 'Moga', 'Bagaha'], dtype=object)"
      ]
     },
     "execution_count": 22,
     "metadata": {},
     "output_type": "execute_result"
    }
   ],
   "source": [
    "df_events_data [df_events_data['longitude'].isnull()]['city'].unique()"
   ]
  },
  {
   "cell_type": "code",
   "execution_count": 23,
   "id": "42e0cfb8",
   "metadata": {},
   "outputs": [
    {
     "data": {
      "text/plain": [
       "array(['Bihar', 'Punjab'], dtype=object)"
      ]
     },
     "execution_count": 23,
     "metadata": {},
     "output_type": "execute_result"
    }
   ],
   "source": [
    "df_events_data[df_events_data['longitude'].isnull()]['state'].unique()"
   ]
  },
  {
   "cell_type": "code",
   "execution_count": 24,
   "id": "af65d676",
   "metadata": {},
   "outputs": [
    {
     "data": {
      "text/plain": [
       "0    26.211919\n",
       "dtype: float64"
      ]
     },
     "execution_count": 24,
     "metadata": {},
     "output_type": "execute_result"
    }
   ],
   "source": [
    "Araria_latitude_mode = df_events_data['latitude'][df_events_data['city'] == 'Araria'].mode()\n",
    "Araria_latitude_mode"
   ]
  },
  {
   "cell_type": "code",
   "execution_count": 25,
   "id": "6c39791b",
   "metadata": {},
   "outputs": [
    {
     "data": {
      "text/plain": [
       "0    30.904178\n",
       "dtype: float64"
      ]
     },
     "execution_count": 25,
     "metadata": {},
     "output_type": "execute_result"
    }
   ],
   "source": [
    "Moga_latitude_mode = df_events_data['latitude'][df_events_data['city'] == 'Moga'].mode()\n",
    "Moga_latitude_mode"
   ]
  },
  {
   "cell_type": "code",
   "execution_count": 26,
   "id": "53b72509",
   "metadata": {},
   "outputs": [
    {
     "data": {
      "text/plain": [
       "0    27.177397\n",
       "dtype: float64"
      ]
     },
     "execution_count": 26,
     "metadata": {},
     "output_type": "execute_result"
    }
   ],
   "source": [
    "Bagaha_latitude_mode = df_events_data['latitude'][df_events_data['city'] == 'Bagaha'].mode()\n",
    "Bagaha_latitude_mode"
   ]
  },
  {
   "cell_type": "code",
   "execution_count": 27,
   "id": "5b004318",
   "metadata": {},
   "outputs": [
    {
     "data": {
      "text/plain": [
       "0    87.570736\n",
       "dtype: float64"
      ]
     },
     "execution_count": 27,
     "metadata": {},
     "output_type": "execute_result"
    }
   ],
   "source": [
    "Araria_longitude_mode = df_events_data['longitude'][df_events_data['city'] == 'Araria'].mode()\n",
    "Araria_longitude_mode"
   ]
  },
  {
   "cell_type": "code",
   "execution_count": 28,
   "id": "fe046e0b",
   "metadata": {},
   "outputs": [
    {
     "data": {
      "text/plain": [
       "0    75.268748\n",
       "dtype: float64"
      ]
     },
     "execution_count": 28,
     "metadata": {},
     "output_type": "execute_result"
    }
   ],
   "source": [
    "Moga_longitude_mode = df_events_data['longitude'][df_events_data['city'] == 'Moga'].mode()\n",
    "Moga_longitude_mode"
   ]
  },
  {
   "cell_type": "code",
   "execution_count": 29,
   "id": "ad9ee2c2",
   "metadata": {},
   "outputs": [
    {
     "data": {
      "text/plain": [
       "0    84.1409\n",
       "dtype: float64"
      ]
     },
     "execution_count": 29,
     "metadata": {},
     "output_type": "execute_result"
    }
   ],
   "source": [
    "Bagaha_longitude_mode = df_events_data['longitude'][df_events_data['city'] == 'Bagaha'].mode()\n",
    "Bagaha_longitude_mode"
   ]
  },
  {
   "cell_type": "code",
   "execution_count": 30,
   "id": "7eb965df",
   "metadata": {},
   "outputs": [
    {
     "name": "stderr",
     "output_type": "stream",
     "text": [
      "C:\\Users\\aksha\\anaconda3\\lib\\site-packages\\pandas\\core\\indexing.py:1720: SettingWithCopyWarning: \n",
      "A value is trying to be set on a copy of a slice from a DataFrame.\n",
      "Try using .loc[row_indexer,col_indexer] = value instead\n",
      "\n",
      "See the caveats in the documentation: https://pandas.pydata.org/pandas-docs/stable/user_guide/indexing.html#returning-a-view-versus-a-copy\n",
      "  self._setitem_single_column(loc, value, pi)\n"
     ]
    }
   ],
   "source": [
    "#Replacing missing longitude & latitude in `Araria`,`Bagaha` & `Moga`\n",
    "df_events_data.loc[(df_events_data['city'] =='Araria') & (df_events_data['longitude'].isnull()),'longitude']= '87.570736'\n",
    "df_events_data.loc[(df_events_data['city'] =='Araria') & (df_events_data['latitude'].isnull()),'latitude']= '26.211919'\n",
    "\n",
    "df_events_data.loc[(df_events_data['city'] =='Moga') & (df_events_data['longitude'].isnull()), 'longitude']= '75.268748'\n",
    "df_events_data.loc[(df_events_data['city'] =='Moga') & (df_events_data['latitude'].isnull()),'latitude']= '30.904178'\n",
    "\n",
    "df_events_data.loc[(df_events_data['city'] =='Bagaha') & (df_events_data['longitude'].isnull()), 'longitude']= ' 84.1409'\n",
    "df_events_data.loc[(df_events_data['city'] =='Bagaha') & (df_events_data['latitude'].isnull()),'latitude']= '27.177397'"
   ]
  },
  {
   "cell_type": "code",
   "execution_count": null,
   "id": "e6e68845",
   "metadata": {},
   "outputs": [],
   "source": []
  },
  {
   "cell_type": "markdown",
   "id": "cfb6332c",
   "metadata": {},
   "source": [
    "### 2.3 Missing devices"
   ]
  },
  {
   "cell_type": "code",
   "execution_count": 31,
   "id": "22ac5567",
   "metadata": {},
   "outputs": [
    {
     "data": {
      "text/plain": [
       "array(['Hoshiarpur', 'Bardoli', 'Jetpur'], dtype=object)"
      ]
     },
     "execution_count": 31,
     "metadata": {},
     "output_type": "execute_result"
    }
   ],
   "source": [
    "df_events_data[df_events_data['device_id'].isnull()]['city'].unique()"
   ]
  },
  {
   "cell_type": "code",
   "execution_count": 32,
   "id": "77f6fa22",
   "metadata": {},
   "outputs": [
    {
     "data": {
      "text/html": [
       "<div>\n",
       "<style scoped>\n",
       "    .dataframe tbody tr th:only-of-type {\n",
       "        vertical-align: middle;\n",
       "    }\n",
       "\n",
       "    .dataframe tbody tr th {\n",
       "        vertical-align: top;\n",
       "    }\n",
       "\n",
       "    .dataframe thead th {\n",
       "        text-align: right;\n",
       "    }\n",
       "</style>\n",
       "<table border=\"1\" class=\"dataframe\">\n",
       "  <thead>\n",
       "    <tr style=\"text-align: right;\">\n",
       "      <th></th>\n",
       "      <th>event_id</th>\n",
       "      <th>device_id</th>\n",
       "      <th>timestamp</th>\n",
       "      <th>longitude</th>\n",
       "      <th>latitude</th>\n",
       "      <th>city</th>\n",
       "      <th>state</th>\n",
       "    </tr>\n",
       "    <tr>\n",
       "      <th>city</th>\n",
       "      <th></th>\n",
       "      <th></th>\n",
       "      <th></th>\n",
       "      <th></th>\n",
       "      <th></th>\n",
       "      <th></th>\n",
       "      <th></th>\n",
       "    </tr>\n",
       "  </thead>\n",
       "  <tbody>\n",
       "    <tr>\n",
       "      <th>Bardoli</th>\n",
       "      <td>16</td>\n",
       "      <td>0</td>\n",
       "      <td>16</td>\n",
       "      <td>16</td>\n",
       "      <td>16</td>\n",
       "      <td>16</td>\n",
       "      <td>16</td>\n",
       "    </tr>\n",
       "    <tr>\n",
       "      <th>Hoshiarpur</th>\n",
       "      <td>16</td>\n",
       "      <td>0</td>\n",
       "      <td>16</td>\n",
       "      <td>16</td>\n",
       "      <td>16</td>\n",
       "      <td>16</td>\n",
       "      <td>16</td>\n",
       "    </tr>\n",
       "    <tr>\n",
       "      <th>Jetpur</th>\n",
       "      <td>16</td>\n",
       "      <td>0</td>\n",
       "      <td>16</td>\n",
       "      <td>16</td>\n",
       "      <td>16</td>\n",
       "      <td>16</td>\n",
       "      <td>16</td>\n",
       "    </tr>\n",
       "  </tbody>\n",
       "</table>\n",
       "</div>"
      ],
      "text/plain": [
       "            event_id  device_id  timestamp  longitude  latitude  city  state\n",
       "city                                                                        \n",
       "Bardoli           16          0         16         16        16    16     16\n",
       "Hoshiarpur        16          0         16         16        16    16     16\n",
       "Jetpur            16          0         16         16        16    16     16"
      ]
     },
     "execution_count": 32,
     "metadata": {},
     "output_type": "execute_result"
    }
   ],
   "source": [
    "df_events_data[df_events_data['device_id'].isnull()].groupby(df_events_data['city']).count()"
   ]
  },
  {
   "cell_type": "code",
   "execution_count": 33,
   "id": "6f96fb0b",
   "metadata": {},
   "outputs": [
    {
     "data": {
      "text/plain": [
       "0   -1,688,015,122,502,424,064.00\n",
       "dtype: float64"
      ]
     },
     "execution_count": 33,
     "metadata": {},
     "output_type": "execute_result"
    }
   ],
   "source": [
    "pd.options.display.float_format = '{:,.2f}'.format\n",
    "df_events_data['device_id'][df_events_data['city']=='Jetpur'].mode()"
   ]
  },
  {
   "cell_type": "code",
   "execution_count": 34,
   "id": "5a0bbf85",
   "metadata": {},
   "outputs": [
    {
     "data": {
      "text/plain": [
       "0   -8,215,770,519,233,685,504.00\n",
       "dtype: float64"
      ]
     },
     "execution_count": 34,
     "metadata": {},
     "output_type": "execute_result"
    }
   ],
   "source": [
    "pd.options.display.float_format = '{:,.2f}'.format\n",
    "df_events_data['device_id'][df_events_data['city']=='Bardoli'].mode()"
   ]
  },
  {
   "cell_type": "code",
   "execution_count": 35,
   "id": "16ac7101",
   "metadata": {},
   "outputs": [
    {
     "data": {
      "text/plain": [
       "0   1,750,778,632,182,066,944.00\n",
       "dtype: float64"
      ]
     },
     "execution_count": 35,
     "metadata": {},
     "output_type": "execute_result"
    }
   ],
   "source": [
    "pd.options.display.float_format = '{:,.2f}'.format\n",
    "df_events_data['device_id'][df_events_data['city']=='Hoshiarpur'].mode()"
   ]
  },
  {
   "cell_type": "code",
   "execution_count": 36,
   "id": "0c511387",
   "metadata": {},
   "outputs": [
    {
     "name": "stderr",
     "output_type": "stream",
     "text": [
      "C:\\Users\\aksha\\anaconda3\\lib\\site-packages\\pandas\\core\\indexing.py:1720: SettingWithCopyWarning: \n",
      "A value is trying to be set on a copy of a slice from a DataFrame.\n",
      "Try using .loc[row_indexer,col_indexer] = value instead\n",
      "\n",
      "See the caveats in the documentation: https://pandas.pydata.org/pandas-docs/stable/user_guide/indexing.html#returning-a-view-versus-a-copy\n",
      "  self._setitem_single_column(loc, value, pi)\n"
     ]
    }
   ],
   "source": [
    "#Replacing missing `device_id` in Jetpur, Bardoli and Hoshiarpur\n",
    "df_events_data.loc[(df_events_data['city'] =='Jetpur') & (df_events_data['device_id'].isnull()),'device_id']= '-1,688,015,122,502,424,064'\n",
    "\n",
    "df_events_data.loc[(df_events_data['city'] =='Bardoli') & (df_events_data['device_id'].isnull()), 'device_id']= '-8,215,770,519,233,685,504'\n",
    "\n",
    "df_events_data.loc[(df_events_data['city'] =='Hoshiarpur') & (df_events_data['device_id'].isnull()), 'device_id']= '1,750,778,632,182,066,944'"
   ]
  },
  {
   "cell_type": "code",
   "execution_count": 37,
   "id": "800c7946",
   "metadata": {},
   "outputs": [
    {
     "data": {
      "text/html": [
       "<div>\n",
       "<style scoped>\n",
       "    .dataframe tbody tr th:only-of-type {\n",
       "        vertical-align: middle;\n",
       "    }\n",
       "\n",
       "    .dataframe tbody tr th {\n",
       "        vertical-align: top;\n",
       "    }\n",
       "\n",
       "    .dataframe thead th {\n",
       "        text-align: right;\n",
       "    }\n",
       "</style>\n",
       "<table border=\"1\" class=\"dataframe\">\n",
       "  <thead>\n",
       "    <tr style=\"text-align: right;\">\n",
       "      <th></th>\n",
       "      <th>event_id</th>\n",
       "      <th>device_id</th>\n",
       "      <th>timestamp</th>\n",
       "      <th>longitude</th>\n",
       "      <th>latitude</th>\n",
       "      <th>city</th>\n",
       "      <th>state</th>\n",
       "    </tr>\n",
       "    <tr>\n",
       "      <th>city</th>\n",
       "      <th></th>\n",
       "      <th></th>\n",
       "      <th></th>\n",
       "      <th></th>\n",
       "      <th></th>\n",
       "      <th></th>\n",
       "      <th></th>\n",
       "    </tr>\n",
       "  </thead>\n",
       "  <tbody>\n",
       "    <tr>\n",
       "      <th>Bardoli</th>\n",
       "      <td>1475</td>\n",
       "      <td>1475</td>\n",
       "      <td>1475</td>\n",
       "      <td>1475</td>\n",
       "      <td>1475</td>\n",
       "      <td>1475</td>\n",
       "      <td>1475</td>\n",
       "    </tr>\n",
       "    <tr>\n",
       "      <th>Hoshiarpur</th>\n",
       "      <td>914</td>\n",
       "      <td>914</td>\n",
       "      <td>914</td>\n",
       "      <td>914</td>\n",
       "      <td>914</td>\n",
       "      <td>914</td>\n",
       "      <td>914</td>\n",
       "    </tr>\n",
       "    <tr>\n",
       "      <th>Jetpur</th>\n",
       "      <td>1479</td>\n",
       "      <td>1479</td>\n",
       "      <td>1479</td>\n",
       "      <td>1479</td>\n",
       "      <td>1479</td>\n",
       "      <td>1479</td>\n",
       "      <td>1479</td>\n",
       "    </tr>\n",
       "  </tbody>\n",
       "</table>\n",
       "</div>"
      ],
      "text/plain": [
       "            event_id  device_id  timestamp  longitude  latitude  city  state\n",
       "city                                                                        \n",
       "Bardoli         1475       1475       1475       1475      1475  1475   1475\n",
       "Hoshiarpur       914        914        914        914       914   914    914\n",
       "Jetpur          1479       1479       1479       1479      1479  1479   1479"
      ]
     },
     "execution_count": 37,
     "metadata": {},
     "output_type": "execute_result"
    }
   ],
   "source": [
    "list2 = ['Jetpur', 'Hoshiarpur', 'Bardoli']\n",
    "df_events_data[df_events_data['city'].isin(list2)].groupby(df_events_data['city']).count()"
   ]
  },
  {
   "cell_type": "code",
   "execution_count": 38,
   "id": "727b5d74",
   "metadata": {},
   "outputs": [
    {
     "data": {
      "text/plain": [
       "event_id     0\n",
       "device_id    0\n",
       "timestamp    0\n",
       "longitude    0\n",
       "latitude     0\n",
       "city         0\n",
       "state        0\n",
       "dtype: int64"
      ]
     },
     "execution_count": 38,
     "metadata": {},
     "output_type": "execute_result"
    }
   ],
   "source": [
    "df_events_data.isnull().sum()"
   ]
  },
  {
   "cell_type": "markdown",
   "id": "06ef3a11",
   "metadata": {},
   "source": [
    "### 2.4 Translation"
   ]
  },
  {
   "cell_type": "code",
   "execution_count": 64,
   "id": "7f28aa74",
   "metadata": {},
   "outputs": [
    {
     "name": "stdout",
     "output_type": "stream",
     "text": [
      "Collecting google-trans-new\n",
      "  Downloading google_trans_new-1.1.9-py3-none-any.whl (9.2 kB)\n",
      "Installing collected packages: google-trans-new\n",
      "Successfully installed google-trans-new-1.1.9\n"
     ]
    }
   ],
   "source": [
    "!pip install google-trans-new"
   ]
  },
  {
   "cell_type": "code",
   "execution_count": 65,
   "id": "0ccead6f",
   "metadata": {},
   "outputs": [],
   "source": [
    "\n",
    "from google_trans_new import google_translator  \n",
    "import google_trans_new"
   ]
  },
  {
   "cell_type": "code",
   "execution_count": 87,
   "id": "f3bfe809",
   "metadata": {},
   "outputs": [
    {
     "data": {
      "text/plain": [
       "array(['vivo', 'Xiaomi', 'OPPO', 'Samsung', 'Coolpad', 'Lenovo', 'Huawei',\n",
       "       'Qiku', 'Meizu', ' Feixun ', 'China Mobile', 'HTC', 'Amagatarai',\n",
       "       'Extreme Treasure', 'LG', 'Obson', 'Youmi', 'ZUK', 'Nubia', 'HP',\n",
       "       'Nibiru', 'Meitu', 'Xianmi', 'Motorola', 'Mengmi', 'Hammer',\n",
       "       ' Focus', 'LeEco', 'Hisense', 'Bai Li Feng', 'One Plus', 'Letters',\n",
       "       'Haier', ' Coolby ', 'Newman', 'Flyer', 'Duowei', 'Lingyun', 'TCL',\n",
       "       'Cooper', 'Aipair', 'LOGO', 'Scallion', 'Fruit Rice', 'ASUS',\n",
       "       'Onda', ' Aiyouni ', 'Kangjia', 'Yougo', 'Banghua', '赛博宇华',\n",
       "       'Black Rice', 'Lovme', 'Pioneer', 'E-Pay', 'Shenzhou', 'Nokia',\n",
       "       'Punale', ' Candied ', 'Yi Tong', 'Ou Xin', '米奇', 'Cubei Cube',\n",
       "       'Blue Devils', 'Little Poplar', 'Bellfonte', 'Glutinous Rice',\n",
       "       'Mi Ge', 'E人E本', 'Simi', 'Big Q', 'Taipower', 'Philips', 'Wei Mi',\n",
       "       '大显', 'Changhong', 'Weitu', 'Green Orange', '本为', 'Shrimp', 'Amoi',\n",
       "       '帷幄', '百加', 'SUGAR', 'Ouqi', '世纪星', '智镁', 'Obi', '基伍', '飞秒',\n",
       "       'Desai', 'Yipai', 'Google', '金星数码', 'Guangxin', 'Noah', 'MIL',\n",
       "       'White Rice', 'Big Cola', 'Projet News', 'Youyu', '首云', '瑞米', '瑞高',\n",
       "       'Wopfung', '摩乐', 'Fresh Rice', 'Kellystone', '唯比', '欧沃', '丰米',\n",
       "       '恒宇丰', '奥克斯', '西门子', '欧乐迪', 'PPTV'], dtype=object)"
      ]
     },
     "execution_count": 87,
     "metadata": {},
     "output_type": "execute_result"
    }
   ],
   "source": [
    "df_brand_model['phone_brand'].unique()"
   ]
  },
  {
   "cell_type": "code",
   "execution_count": 88,
   "id": "d3891939",
   "metadata": {},
   "outputs": [],
   "source": [
    "brands_in_chinese = ['华为','小米','三星','魅族','酷派','乐视','联想 ','vivo','OPPO','HTC','LG','TCL','LOGO','Lovme','ZUK','PPTV','努比亚','海信','天语','夏新','欧比', '优米', '欧博信', '奇酷', '锤子', '酷比魔方', '语信', '朵唯', '德赛', '一加',\n",
    "       '华硕', '普耐尔', '易派', '摩托罗拉', '优购', '酷珀', '梦米', '爱派尔', '昂达', '邦华',\n",
    "       '聆韵', '中国移动', '诺亚信', '酷比', '艾优尼', '斐讯', '富可视', '欧新', '美图', '宝捷讯',\n",
    "       '青橙', '果米', '波导', '诺基亚', '神舟', '糯米', '亿通', '纽曼', '唯米', '百立丰',\n",
    "       '沃普丰', '虾米', '凯利通', '贝尔丰', '至尊宝', '蓝魔', '青葱', '白米', '大可乐', '尼比鲁',\n",
    "       '康佳', '乡米', '黑米', '海尔', '优语', '维图', '米歌', '广信', 'E派', '小杨树', '糖葫芦',\n",
    "       '西米', '谷歌', '长虹', '飞利浦', '惠普', '台电', '大Q', '鲜米', '先锋', '欧奇']\n",
    "brands_in_english = ['Huawei','Xiaomi','Samsung','Meizu','Coolpad','LeEco','Lenovo','vivo','OPPO','HTC','LG','TCL','LOGO','Lovme','ZUK','PPTV','Nubia','Hisense','Amagatarai','Amoi','Obi', 'Youmi', 'Obson', 'Qiku', 'Hammer', 'Cubei Cube', 'Letters', 'Duowei', 'Desai', 'One Plus','ASUS', 'Punale', 'Yipai', 'Motorola', 'Yougo', 'Cooper', 'Mengmi', 'Aipair', 'Onda', 'Banghua', 'Lingyun', 'China Mobile', 'Noah',' Coolby ',' Aiyouni ',' Feixun ',' Focus', 'Ou Xin', 'Meitu', 'Projet News','Green Orange', 'Fruit Rice', 'Flyer', 'Nokia', 'Shenzhou', 'Glutinous Rice', 'Yi Tong', 'Newman', 'Wei Mi', 'Bai Li Feng','Wopfung', 'Shrimp', 'Kellystone', 'Bellfonte', 'Extreme Treasure', 'Blue Devils', 'Scallion', 'White Rice', 'Big Cola', 'Nibiru','Kangjia', 'Xianmi', 'Black Rice', 'Haier', 'Youyu', 'Weitu', 'Mi Ge', 'Guangxin', 'E-Pay', 'Little Poplar', ' Candied ','Simi', 'Google', 'Changhong', 'Philips', 'HP', 'Taipower', 'Big Q', 'Fresh Rice', 'Pioneer', 'Ouqi']\n",
    "\n",
    "brands_dict1 = dict(zip(brands_in_chinese, brands_in_english)) "
   ]
  },
  {
   "cell_type": "code",
   "execution_count": 89,
   "id": "571b9e6d",
   "metadata": {},
   "outputs": [],
   "source": [
    "def translator(val):\n",
    "    if val in brands_dict1:\n",
    "        return brands_dict1[val]\n",
    "    else:\n",
    "        return val"
   ]
  },
  {
   "cell_type": "code",
   "execution_count": 90,
   "id": "f264a57e",
   "metadata": {},
   "outputs": [],
   "source": [
    "df_brand_model['phone_brand'] = df_brand_model['phone_brand'].apply(translator)"
   ]
  },
  {
   "cell_type": "code",
   "execution_count": 92,
   "id": "a88c0c84",
   "metadata": {},
   "outputs": [
    {
     "data": {
      "text/html": [
       "<div>\n",
       "<style scoped>\n",
       "    .dataframe tbody tr th:only-of-type {\n",
       "        vertical-align: middle;\n",
       "    }\n",
       "\n",
       "    .dataframe tbody tr th {\n",
       "        vertical-align: top;\n",
       "    }\n",
       "\n",
       "    .dataframe thead th {\n",
       "        text-align: right;\n",
       "    }\n",
       "</style>\n",
       "<table border=\"1\" class=\"dataframe\">\n",
       "  <thead>\n",
       "    <tr style=\"text-align: right;\">\n",
       "      <th></th>\n",
       "      <th>device_id</th>\n",
       "      <th>phone_brand</th>\n",
       "      <th>device_model</th>\n",
       "    </tr>\n",
       "  </thead>\n",
       "  <tbody>\n",
       "    <tr>\n",
       "      <th>0</th>\n",
       "      <td>1877775838486905855</td>\n",
       "      <td>vivo</td>\n",
       "      <td>Y13</td>\n",
       "    </tr>\n",
       "    <tr>\n",
       "      <th>1</th>\n",
       "      <td>-3766087376657242966</td>\n",
       "      <td>Xiaomi</td>\n",
       "      <td>V183</td>\n",
       "    </tr>\n",
       "    <tr>\n",
       "      <th>2</th>\n",
       "      <td>-6238937574958215831</td>\n",
       "      <td>OPPO</td>\n",
       "      <td>R7s</td>\n",
       "    </tr>\n",
       "    <tr>\n",
       "      <th>3</th>\n",
       "      <td>8973197758510677470</td>\n",
       "      <td>Samsung</td>\n",
       "      <td>A368t</td>\n",
       "    </tr>\n",
       "    <tr>\n",
       "      <th>4</th>\n",
       "      <td>-2015528097870762664</td>\n",
       "      <td>Xiaomi</td>\n",
       "      <td>红米Note2</td>\n",
       "    </tr>\n",
       "  </tbody>\n",
       "</table>\n",
       "</div>"
      ],
      "text/plain": [
       "             device_id phone_brand device_model\n",
       "0  1877775838486905855        vivo          Y13\n",
       "1 -3766087376657242966      Xiaomi         V183\n",
       "2 -6238937574958215831        OPPO          R7s\n",
       "3  8973197758510677470     Samsung        A368t\n",
       "4 -2015528097870762664      Xiaomi      红米Note2"
      ]
     },
     "execution_count": 92,
     "metadata": {},
     "output_type": "execute_result"
    }
   ],
   "source": [
    "df_brand_model.head()"
   ]
  },
  {
   "cell_type": "markdown",
   "id": "632d4ae8",
   "metadata": {},
   "source": [
    "Merging Data"
   ]
  },
  {
   "cell_type": "code",
   "execution_count": 105,
   "id": "f7996488",
   "metadata": {},
   "outputs": [],
   "source": [
    "df_gender_age['device_id']=df_gender_age['device_id'].astype(float)"
   ]
  },
  {
   "cell_type": "code",
   "execution_count": 106,
   "id": "1705f727",
   "metadata": {},
   "outputs": [],
   "source": [
    "\n",
    "df_brand_model['device_id']=df_brand_model['device_id'].astype(float)"
   ]
  },
  {
   "cell_type": "code",
   "execution_count": 107,
   "id": "bcc9309a",
   "metadata": {},
   "outputs": [
    {
     "ename": "ValueError",
     "evalue": "could not convert string to float: '1,750,778,632,182,066,944'",
     "output_type": "error",
     "traceback": [
      "\u001b[1;31m---------------------------------------------------------------------------\u001b[0m",
      "\u001b[1;31mValueError\u001b[0m                                Traceback (most recent call last)",
      "\u001b[1;32m<ipython-input-107-1de06e6c4bb3>\u001b[0m in \u001b[0;36m<module>\u001b[1;34m\u001b[0m\n\u001b[1;32m----> 1\u001b[1;33m \u001b[0mdf_events_data\u001b[0m\u001b[1;33m[\u001b[0m\u001b[1;34m'device_id'\u001b[0m\u001b[1;33m]\u001b[0m\u001b[1;33m=\u001b[0m\u001b[0mdf_events_data\u001b[0m\u001b[1;33m[\u001b[0m\u001b[1;34m'device_id'\u001b[0m\u001b[1;33m]\u001b[0m\u001b[1;33m.\u001b[0m\u001b[0mastype\u001b[0m\u001b[1;33m(\u001b[0m\u001b[0mfloat\u001b[0m\u001b[1;33m)\u001b[0m\u001b[1;33m\u001b[0m\u001b[1;33m\u001b[0m\u001b[0m\n\u001b[0m",
      "\u001b[1;32m~\\anaconda3\\lib\\site-packages\\pandas\\core\\generic.py\u001b[0m in \u001b[0;36mastype\u001b[1;34m(self, dtype, copy, errors)\u001b[0m\n\u001b[0;32m   5875\u001b[0m         \u001b[1;32melse\u001b[0m\u001b[1;33m:\u001b[0m\u001b[1;33m\u001b[0m\u001b[1;33m\u001b[0m\u001b[0m\n\u001b[0;32m   5876\u001b[0m             \u001b[1;31m# else, only a single dtype is given\u001b[0m\u001b[1;33m\u001b[0m\u001b[1;33m\u001b[0m\u001b[1;33m\u001b[0m\u001b[0m\n\u001b[1;32m-> 5877\u001b[1;33m             \u001b[0mnew_data\u001b[0m \u001b[1;33m=\u001b[0m \u001b[0mself\u001b[0m\u001b[1;33m.\u001b[0m\u001b[0m_mgr\u001b[0m\u001b[1;33m.\u001b[0m\u001b[0mastype\u001b[0m\u001b[1;33m(\u001b[0m\u001b[0mdtype\u001b[0m\u001b[1;33m=\u001b[0m\u001b[0mdtype\u001b[0m\u001b[1;33m,\u001b[0m \u001b[0mcopy\u001b[0m\u001b[1;33m=\u001b[0m\u001b[0mcopy\u001b[0m\u001b[1;33m,\u001b[0m \u001b[0merrors\u001b[0m\u001b[1;33m=\u001b[0m\u001b[0merrors\u001b[0m\u001b[1;33m)\u001b[0m\u001b[1;33m\u001b[0m\u001b[1;33m\u001b[0m\u001b[0m\n\u001b[0m\u001b[0;32m   5878\u001b[0m             \u001b[1;32mreturn\u001b[0m \u001b[0mself\u001b[0m\u001b[1;33m.\u001b[0m\u001b[0m_constructor\u001b[0m\u001b[1;33m(\u001b[0m\u001b[0mnew_data\u001b[0m\u001b[1;33m)\u001b[0m\u001b[1;33m.\u001b[0m\u001b[0m__finalize__\u001b[0m\u001b[1;33m(\u001b[0m\u001b[0mself\u001b[0m\u001b[1;33m,\u001b[0m \u001b[0mmethod\u001b[0m\u001b[1;33m=\u001b[0m\u001b[1;34m\"astype\"\u001b[0m\u001b[1;33m)\u001b[0m\u001b[1;33m\u001b[0m\u001b[1;33m\u001b[0m\u001b[0m\n\u001b[0;32m   5879\u001b[0m \u001b[1;33m\u001b[0m\u001b[0m\n",
      "\u001b[1;32m~\\anaconda3\\lib\\site-packages\\pandas\\core\\internals\\managers.py\u001b[0m in \u001b[0;36mastype\u001b[1;34m(self, dtype, copy, errors)\u001b[0m\n\u001b[0;32m    629\u001b[0m         \u001b[0mself\u001b[0m\u001b[1;33m,\u001b[0m \u001b[0mdtype\u001b[0m\u001b[1;33m,\u001b[0m \u001b[0mcopy\u001b[0m\u001b[1;33m:\u001b[0m \u001b[0mbool\u001b[0m \u001b[1;33m=\u001b[0m \u001b[1;32mFalse\u001b[0m\u001b[1;33m,\u001b[0m \u001b[0merrors\u001b[0m\u001b[1;33m:\u001b[0m \u001b[0mstr\u001b[0m \u001b[1;33m=\u001b[0m \u001b[1;34m\"raise\"\u001b[0m\u001b[1;33m\u001b[0m\u001b[1;33m\u001b[0m\u001b[0m\n\u001b[0;32m    630\u001b[0m     ) -> \"BlockManager\":\n\u001b[1;32m--> 631\u001b[1;33m         \u001b[1;32mreturn\u001b[0m \u001b[0mself\u001b[0m\u001b[1;33m.\u001b[0m\u001b[0mapply\u001b[0m\u001b[1;33m(\u001b[0m\u001b[1;34m\"astype\"\u001b[0m\u001b[1;33m,\u001b[0m \u001b[0mdtype\u001b[0m\u001b[1;33m=\u001b[0m\u001b[0mdtype\u001b[0m\u001b[1;33m,\u001b[0m \u001b[0mcopy\u001b[0m\u001b[1;33m=\u001b[0m\u001b[0mcopy\u001b[0m\u001b[1;33m,\u001b[0m \u001b[0merrors\u001b[0m\u001b[1;33m=\u001b[0m\u001b[0merrors\u001b[0m\u001b[1;33m)\u001b[0m\u001b[1;33m\u001b[0m\u001b[1;33m\u001b[0m\u001b[0m\n\u001b[0m\u001b[0;32m    632\u001b[0m \u001b[1;33m\u001b[0m\u001b[0m\n\u001b[0;32m    633\u001b[0m     def convert(\n",
      "\u001b[1;32m~\\anaconda3\\lib\\site-packages\\pandas\\core\\internals\\managers.py\u001b[0m in \u001b[0;36mapply\u001b[1;34m(self, f, align_keys, ignore_failures, **kwargs)\u001b[0m\n\u001b[0;32m    425\u001b[0m                     \u001b[0mapplied\u001b[0m \u001b[1;33m=\u001b[0m \u001b[0mb\u001b[0m\u001b[1;33m.\u001b[0m\u001b[0mapply\u001b[0m\u001b[1;33m(\u001b[0m\u001b[0mf\u001b[0m\u001b[1;33m,\u001b[0m \u001b[1;33m**\u001b[0m\u001b[0mkwargs\u001b[0m\u001b[1;33m)\u001b[0m\u001b[1;33m\u001b[0m\u001b[1;33m\u001b[0m\u001b[0m\n\u001b[0;32m    426\u001b[0m                 \u001b[1;32melse\u001b[0m\u001b[1;33m:\u001b[0m\u001b[1;33m\u001b[0m\u001b[1;33m\u001b[0m\u001b[0m\n\u001b[1;32m--> 427\u001b[1;33m                     \u001b[0mapplied\u001b[0m \u001b[1;33m=\u001b[0m \u001b[0mgetattr\u001b[0m\u001b[1;33m(\u001b[0m\u001b[0mb\u001b[0m\u001b[1;33m,\u001b[0m \u001b[0mf\u001b[0m\u001b[1;33m)\u001b[0m\u001b[1;33m(\u001b[0m\u001b[1;33m**\u001b[0m\u001b[0mkwargs\u001b[0m\u001b[1;33m)\u001b[0m\u001b[1;33m\u001b[0m\u001b[1;33m\u001b[0m\u001b[0m\n\u001b[0m\u001b[0;32m    428\u001b[0m             \u001b[1;32mexcept\u001b[0m \u001b[1;33m(\u001b[0m\u001b[0mTypeError\u001b[0m\u001b[1;33m,\u001b[0m \u001b[0mNotImplementedError\u001b[0m\u001b[1;33m)\u001b[0m\u001b[1;33m:\u001b[0m\u001b[1;33m\u001b[0m\u001b[1;33m\u001b[0m\u001b[0m\n\u001b[0;32m    429\u001b[0m                 \u001b[1;32mif\u001b[0m \u001b[1;32mnot\u001b[0m \u001b[0mignore_failures\u001b[0m\u001b[1;33m:\u001b[0m\u001b[1;33m\u001b[0m\u001b[1;33m\u001b[0m\u001b[0m\n",
      "\u001b[1;32m~\\anaconda3\\lib\\site-packages\\pandas\\core\\internals\\blocks.py\u001b[0m in \u001b[0;36mastype\u001b[1;34m(self, dtype, copy, errors)\u001b[0m\n\u001b[0;32m    671\u001b[0m             \u001b[0mvals1d\u001b[0m \u001b[1;33m=\u001b[0m \u001b[0mvalues\u001b[0m\u001b[1;33m.\u001b[0m\u001b[0mravel\u001b[0m\u001b[1;33m(\u001b[0m\u001b[1;33m)\u001b[0m\u001b[1;33m\u001b[0m\u001b[1;33m\u001b[0m\u001b[0m\n\u001b[0;32m    672\u001b[0m             \u001b[1;32mtry\u001b[0m\u001b[1;33m:\u001b[0m\u001b[1;33m\u001b[0m\u001b[1;33m\u001b[0m\u001b[0m\n\u001b[1;32m--> 673\u001b[1;33m                 \u001b[0mvalues\u001b[0m \u001b[1;33m=\u001b[0m \u001b[0mastype_nansafe\u001b[0m\u001b[1;33m(\u001b[0m\u001b[0mvals1d\u001b[0m\u001b[1;33m,\u001b[0m \u001b[0mdtype\u001b[0m\u001b[1;33m,\u001b[0m \u001b[0mcopy\u001b[0m\u001b[1;33m=\u001b[0m\u001b[1;32mTrue\u001b[0m\u001b[1;33m)\u001b[0m\u001b[1;33m\u001b[0m\u001b[1;33m\u001b[0m\u001b[0m\n\u001b[0m\u001b[0;32m    674\u001b[0m             \u001b[1;32mexcept\u001b[0m \u001b[1;33m(\u001b[0m\u001b[0mValueError\u001b[0m\u001b[1;33m,\u001b[0m \u001b[0mTypeError\u001b[0m\u001b[1;33m)\u001b[0m\u001b[1;33m:\u001b[0m\u001b[1;33m\u001b[0m\u001b[1;33m\u001b[0m\u001b[0m\n\u001b[0;32m    675\u001b[0m                 \u001b[1;31m# e.g. astype_nansafe can fail on object-dtype of strings\u001b[0m\u001b[1;33m\u001b[0m\u001b[1;33m\u001b[0m\u001b[1;33m\u001b[0m\u001b[0m\n",
      "\u001b[1;32m~\\anaconda3\\lib\\site-packages\\pandas\\core\\dtypes\\cast.py\u001b[0m in \u001b[0;36mastype_nansafe\u001b[1;34m(arr, dtype, copy, skipna)\u001b[0m\n\u001b[0;32m   1095\u001b[0m     \u001b[1;32mif\u001b[0m \u001b[0mcopy\u001b[0m \u001b[1;32mor\u001b[0m \u001b[0mis_object_dtype\u001b[0m\u001b[1;33m(\u001b[0m\u001b[0marr\u001b[0m\u001b[1;33m)\u001b[0m \u001b[1;32mor\u001b[0m \u001b[0mis_object_dtype\u001b[0m\u001b[1;33m(\u001b[0m\u001b[0mdtype\u001b[0m\u001b[1;33m)\u001b[0m\u001b[1;33m:\u001b[0m\u001b[1;33m\u001b[0m\u001b[1;33m\u001b[0m\u001b[0m\n\u001b[0;32m   1096\u001b[0m         \u001b[1;31m# Explicit copy, or required since NumPy can't view from / to object.\u001b[0m\u001b[1;33m\u001b[0m\u001b[1;33m\u001b[0m\u001b[1;33m\u001b[0m\u001b[0m\n\u001b[1;32m-> 1097\u001b[1;33m         \u001b[1;32mreturn\u001b[0m \u001b[0marr\u001b[0m\u001b[1;33m.\u001b[0m\u001b[0mastype\u001b[0m\u001b[1;33m(\u001b[0m\u001b[0mdtype\u001b[0m\u001b[1;33m,\u001b[0m \u001b[0mcopy\u001b[0m\u001b[1;33m=\u001b[0m\u001b[1;32mTrue\u001b[0m\u001b[1;33m)\u001b[0m\u001b[1;33m\u001b[0m\u001b[1;33m\u001b[0m\u001b[0m\n\u001b[0m\u001b[0;32m   1098\u001b[0m \u001b[1;33m\u001b[0m\u001b[0m\n\u001b[0;32m   1099\u001b[0m     \u001b[1;32mreturn\u001b[0m \u001b[0marr\u001b[0m\u001b[1;33m.\u001b[0m\u001b[0mview\u001b[0m\u001b[1;33m(\u001b[0m\u001b[0mdtype\u001b[0m\u001b[1;33m)\u001b[0m\u001b[1;33m\u001b[0m\u001b[1;33m\u001b[0m\u001b[0m\n",
      "\u001b[1;31mValueError\u001b[0m: could not convert string to float: '1,750,778,632,182,066,944'"
     ]
    }
   ],
   "source": [
    "df_events_data['device_id']=df_events_data['device_id'].astype(float)"
   ]
  },
  {
   "cell_type": "code",
   "execution_count": 110,
   "id": "74f0323a",
   "metadata": {},
   "outputs": [
    {
     "ename": "ValueError",
     "evalue": "You are trying to merge on object and float64 columns. If you wish to proceed you should use pd.concat",
     "output_type": "error",
     "traceback": [
      "\u001b[1;31m---------------------------------------------------------------------------\u001b[0m",
      "\u001b[1;31mValueError\u001b[0m                                Traceback (most recent call last)",
      "\u001b[1;32m<ipython-input-110-e34f2d0ce0a7>\u001b[0m in \u001b[0;36m<module>\u001b[1;34m\u001b[0m\n\u001b[1;32m----> 1\u001b[1;33m \u001b[0mdf_final\u001b[0m \u001b[1;33m=\u001b[0m \u001b[0mdf_events_data\u001b[0m\u001b[1;33m.\u001b[0m\u001b[0mmerge\u001b[0m\u001b[1;33m(\u001b[0m\u001b[0mdf_brand_model\u001b[0m\u001b[1;33m,\u001b[0m\u001b[0mon\u001b[0m\u001b[1;33m=\u001b[0m\u001b[1;34m'device_id'\u001b[0m\u001b[1;33m)\u001b[0m\u001b[1;33m.\u001b[0m\u001b[0mmerge\u001b[0m\u001b[1;33m(\u001b[0m\u001b[0mdf_gender_age\u001b[0m\u001b[1;33m,\u001b[0m\u001b[0mon\u001b[0m\u001b[1;33m=\u001b[0m\u001b[1;34m'device_id'\u001b[0m\u001b[1;33m)\u001b[0m\u001b[1;33m\u001b[0m\u001b[1;33m\u001b[0m\u001b[0m\n\u001b[0m",
      "\u001b[1;32m~\\anaconda3\\lib\\site-packages\\pandas\\core\\frame.py\u001b[0m in \u001b[0;36mmerge\u001b[1;34m(self, right, how, on, left_on, right_on, left_index, right_index, sort, suffixes, copy, indicator, validate)\u001b[0m\n\u001b[0;32m   8193\u001b[0m         \u001b[1;32mfrom\u001b[0m \u001b[0mpandas\u001b[0m\u001b[1;33m.\u001b[0m\u001b[0mcore\u001b[0m\u001b[1;33m.\u001b[0m\u001b[0mreshape\u001b[0m\u001b[1;33m.\u001b[0m\u001b[0mmerge\u001b[0m \u001b[1;32mimport\u001b[0m \u001b[0mmerge\u001b[0m\u001b[1;33m\u001b[0m\u001b[1;33m\u001b[0m\u001b[0m\n\u001b[0;32m   8194\u001b[0m \u001b[1;33m\u001b[0m\u001b[0m\n\u001b[1;32m-> 8195\u001b[1;33m         return merge(\n\u001b[0m\u001b[0;32m   8196\u001b[0m             \u001b[0mself\u001b[0m\u001b[1;33m,\u001b[0m\u001b[1;33m\u001b[0m\u001b[1;33m\u001b[0m\u001b[0m\n\u001b[0;32m   8197\u001b[0m             \u001b[0mright\u001b[0m\u001b[1;33m,\u001b[0m\u001b[1;33m\u001b[0m\u001b[1;33m\u001b[0m\u001b[0m\n",
      "\u001b[1;32m~\\anaconda3\\lib\\site-packages\\pandas\\core\\reshape\\merge.py\u001b[0m in \u001b[0;36mmerge\u001b[1;34m(left, right, how, on, left_on, right_on, left_index, right_index, sort, suffixes, copy, indicator, validate)\u001b[0m\n\u001b[0;32m     72\u001b[0m     \u001b[0mvalidate\u001b[0m\u001b[1;33m=\u001b[0m\u001b[1;32mNone\u001b[0m\u001b[1;33m,\u001b[0m\u001b[1;33m\u001b[0m\u001b[1;33m\u001b[0m\u001b[0m\n\u001b[0;32m     73\u001b[0m ) -> \"DataFrame\":\n\u001b[1;32m---> 74\u001b[1;33m     op = _MergeOperation(\n\u001b[0m\u001b[0;32m     75\u001b[0m         \u001b[0mleft\u001b[0m\u001b[1;33m,\u001b[0m\u001b[1;33m\u001b[0m\u001b[1;33m\u001b[0m\u001b[0m\n\u001b[0;32m     76\u001b[0m         \u001b[0mright\u001b[0m\u001b[1;33m,\u001b[0m\u001b[1;33m\u001b[0m\u001b[1;33m\u001b[0m\u001b[0m\n",
      "\u001b[1;32m~\\anaconda3\\lib\\site-packages\\pandas\\core\\reshape\\merge.py\u001b[0m in \u001b[0;36m__init__\u001b[1;34m(self, left, right, how, on, left_on, right_on, axis, left_index, right_index, sort, suffixes, copy, indicator, validate)\u001b[0m\n\u001b[0;32m    670\u001b[0m         \u001b[1;31m# validate the merge keys dtypes. We may need to coerce\u001b[0m\u001b[1;33m\u001b[0m\u001b[1;33m\u001b[0m\u001b[1;33m\u001b[0m\u001b[0m\n\u001b[0;32m    671\u001b[0m         \u001b[1;31m# to avoid incompatible dtypes\u001b[0m\u001b[1;33m\u001b[0m\u001b[1;33m\u001b[0m\u001b[1;33m\u001b[0m\u001b[0m\n\u001b[1;32m--> 672\u001b[1;33m         \u001b[0mself\u001b[0m\u001b[1;33m.\u001b[0m\u001b[0m_maybe_coerce_merge_keys\u001b[0m\u001b[1;33m(\u001b[0m\u001b[1;33m)\u001b[0m\u001b[1;33m\u001b[0m\u001b[1;33m\u001b[0m\u001b[0m\n\u001b[0m\u001b[0;32m    673\u001b[0m \u001b[1;33m\u001b[0m\u001b[0m\n\u001b[0;32m    674\u001b[0m         \u001b[1;31m# If argument passed to validate,\u001b[0m\u001b[1;33m\u001b[0m\u001b[1;33m\u001b[0m\u001b[1;33m\u001b[0m\u001b[0m\n",
      "\u001b[1;32m~\\anaconda3\\lib\\site-packages\\pandas\\core\\reshape\\merge.py\u001b[0m in \u001b[0;36m_maybe_coerce_merge_keys\u001b[1;34m(self)\u001b[0m\n\u001b[0;32m   1191\u001b[0m                     \u001b[0minferred_right\u001b[0m \u001b[1;32min\u001b[0m \u001b[0mstring_types\u001b[0m \u001b[1;32mand\u001b[0m \u001b[0minferred_left\u001b[0m \u001b[1;32mnot\u001b[0m \u001b[1;32min\u001b[0m \u001b[0mstring_types\u001b[0m\u001b[1;33m\u001b[0m\u001b[1;33m\u001b[0m\u001b[0m\n\u001b[0;32m   1192\u001b[0m                 ):\n\u001b[1;32m-> 1193\u001b[1;33m                     \u001b[1;32mraise\u001b[0m \u001b[0mValueError\u001b[0m\u001b[1;33m(\u001b[0m\u001b[0mmsg\u001b[0m\u001b[1;33m)\u001b[0m\u001b[1;33m\u001b[0m\u001b[1;33m\u001b[0m\u001b[0m\n\u001b[0m\u001b[0;32m   1194\u001b[0m \u001b[1;33m\u001b[0m\u001b[0m\n\u001b[0;32m   1195\u001b[0m             \u001b[1;31m# datetimelikes must match exactly\u001b[0m\u001b[1;33m\u001b[0m\u001b[1;33m\u001b[0m\u001b[1;33m\u001b[0m\u001b[0m\n",
      "\u001b[1;31mValueError\u001b[0m: You are trying to merge on object and float64 columns. If you wish to proceed you should use pd.concat"
     ]
    }
   ],
   "source": [
    "df_final = df_events_data.merge(df_brand_model,on='device_id').merge(df_gender_age,on='device_id')\n"
   ]
  },
  {
   "cell_type": "code",
   "execution_count": null,
   "id": "6f0bfa0b",
   "metadata": {},
   "outputs": [],
   "source": []
  },
  {
   "cell_type": "code",
   "execution_count": null,
   "id": "3ece4b9f",
   "metadata": {},
   "outputs": [],
   "source": []
  },
  {
   "cell_type": "code",
   "execution_count": null,
   "id": "d422da5c",
   "metadata": {},
   "outputs": [],
   "source": []
  },
  {
   "cell_type": "code",
   "execution_count": null,
   "id": "cd861cc2",
   "metadata": {},
   "outputs": [],
   "source": []
  },
  {
   "cell_type": "code",
   "execution_count": null,
   "id": "570d5960",
   "metadata": {},
   "outputs": [],
   "source": []
  },
  {
   "cell_type": "code",
   "execution_count": null,
   "id": "71cc9e2f",
   "metadata": {},
   "outputs": [],
   "source": []
  },
  {
   "cell_type": "code",
   "execution_count": null,
   "id": "82337cd7",
   "metadata": {},
   "outputs": [],
   "source": []
  },
  {
   "cell_type": "code",
   "execution_count": null,
   "id": "b43cb507",
   "metadata": {},
   "outputs": [],
   "source": []
  }
 ],
 "metadata": {
  "kernelspec": {
   "display_name": "Python 3",
   "language": "python",
   "name": "python3"
  },
  "language_info": {
   "codemirror_mode": {
    "name": "ipython",
    "version": 3
   },
   "file_extension": ".py",
   "mimetype": "text/x-python",
   "name": "python",
   "nbconvert_exporter": "python",
   "pygments_lexer": "ipython3",
   "version": "3.8.8"
  }
 },
 "nbformat": 4,
 "nbformat_minor": 5
}
